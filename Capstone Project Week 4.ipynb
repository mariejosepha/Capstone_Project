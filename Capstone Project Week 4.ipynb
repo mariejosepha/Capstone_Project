{
    "cells": [
        {
            "cell_type": "markdown",
            "metadata": {
                "collapsed": true
            },
            "source": "\nBusiness Problem section\n\nBackground\n\nMedia has been lately reporting a sharp increase in crime rates in London. Moreover, different parts of the city tend to have different crime rates. Aiming to move to London in the next year, I want to explore safe boroughs to decide where I should live. \n\nBusiness Problem\n\nTo find out which boroughs are the safest, statistics and machine learning tools can be adopted to make informed decisions. As a result, the business problem we are currently posing is: where are the safest boroughs in the UK?\n\nTo solve this business problem, we are going to cluster London boroughs, based on both the crime rate in each borough as well as on nearby venues, so we can recomment boroughs that have a low crime rate and that have profitable venues nearby such as elementary schools, high schools, hospitals & grocery stores.\n"
        },
        {
            "cell_type": "markdown",
            "metadata": {},
            "source": "Data section\n\nData on London crime rates  and categories grouped by boroughs was extracted from \n\nand the relative price paid data were extracted from 'https://data.london.gov.uk/dataset/recorded_crime_summary' for the last 24 months. The following fields comprise each entry in the crimes data: Category of the crime; specific crime; b\n\nTo explore and target recommended locations across different venues according to the presence of amenities and essential facilities, we will access data through FourSquare API interface and arrange them as a dataframe for visualization. By merging data on London properties and the relative price paid data from the HM Land Registry and data on amenities and essential facilities surrounding such properties from FourSquare API interface, we will be able to recommend profitable real estate investments.\n Methodology section\n\nThe Methodology section will describe the main components of our analysis and predication system. The Methodology section comprises four stages:\n\n1. Collect Inspection Data\n2. Explore and Understand Data\n3. Data preparation and preprocessing \n4. Modeling"
        }
    ],
    "metadata": {
        "kernelspec": {
            "display_name": "Python 3.6",
            "language": "python",
            "name": "python3"
        },
        "language_info": {
            "codemirror_mode": {
                "name": "ipython",
                "version": 3
            },
            "file_extension": ".py",
            "mimetype": "text/x-python",
            "name": "python",
            "nbconvert_exporter": "python",
            "pygments_lexer": "ipython3",
            "version": "3.6.9"
        }
    },
    "nbformat": 4,
    "nbformat_minor": 1
}